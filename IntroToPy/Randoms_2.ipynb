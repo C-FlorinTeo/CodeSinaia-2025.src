{
 "cells": [
  {
   "cell_type": "markdown",
   "id": "4344793e",
   "metadata": {},
   "source": [
    "This notebook covers some of the requirements of the \"Randoms\" project: generating the numbers, saving them in a file, then calculating a few statistics:\n",
    "- min and max randoms\n",
    "- topN most frequent randoms"
   ]
  },
  {
   "cell_type": "code",
   "execution_count": 1,
   "id": "6eb56257",
   "metadata": {},
   "outputs": [],
   "source": [
    "import random\n",
    "import statistics"
   ]
  },
  {
   "cell_type": "markdown",
   "id": "e5aa9dea",
   "metadata": {},
   "source": [
    "Provide values for the input parameters into the script"
   ]
  },
  {
   "cell_type": "code",
   "execution_count": 2,
   "id": "c0bf0ac2",
   "metadata": {},
   "outputs": [
    {
     "name": "stdout",
     "output_type": "stream",
     "text": [
      "Generating 20 randoms in the range [12, 85]\n"
     ]
    }
   ],
   "source": [
    "count = 20 # int(input(\"Number of values?> \"))\n",
    "min_value = 12 # int(input(\"Minimum value?> \"))\n",
    "max_value = 85 # int(input(\"Maximum value?> \"))\n",
    "print(f\"Generating {count} randoms in the range [{min_value}, {max_value}]\")"
   ]
  },
  {
   "cell_type": "markdown",
   "id": "41cef453",
   "metadata": {},
   "source": [
    "Generate _count_ values in the range [_min_value_, _max_value_] and store them in a the _values_map_.\n",
    "The map associates each random value (key) with the array of indexes where (value) where the random was generated.\n",
    "<key=random_value, value=[index1, index2, index3, ...]> "
   ]
  },
  {
   "cell_type": "code",
   "execution_count": null,
   "id": "2fc433ea",
   "metadata": {},
   "outputs": [],
   "source": []
  },
  {
   "cell_type": "code",
   "execution_count": 3,
   "id": "a1d86646",
   "metadata": {},
   "outputs": [],
   "source": [
    "randoms_map = {}\n",
    "for i in range(0, count):\n",
    "    r = random.randint(min_value, max_value)\n",
    "    if r not in randoms_map:\n",
    "        randoms_map[r] = []\n",
    "    randoms_map[r].append(i)"
   ]
  },
  {
   "cell_type": "markdown",
   "id": "29656d3a",
   "metadata": {},
   "source": [
    " Write a text file \"dataset.txt\" with each random on a line, its value followed by the indexes where it occurred"
   ]
  },
  {
   "cell_type": "code",
   "execution_count": 4,
   "id": "4fee425f",
   "metadata": {},
   "outputs": [],
   "source": [
    "with open(\"dataset.txt\", \"w\") as data_file:\n",
    "    for r in randoms_map.keys():\n",
    "        data_file.write(f\"{r} {randoms_map[r]}\\n\")"
   ]
  },
  {
   "cell_type": "markdown",
   "id": "3796d55f",
   "metadata": {},
   "source": [
    "Print a few statistics: min, max random values,  mean, median(aka average) and standard deviation (aka stdev) of the sequence."
   ]
  },
  {
   "cell_type": "code",
   "execution_count": 5,
   "id": "864b67fa",
   "metadata": {},
   "outputs": [
    {
     "name": "stdout",
     "output_type": "stream",
     "text": [
      "Count of unique randoms: 17\n",
      "Min random: 12; Max random: 75\n",
      "Mean of the sequence: 41.64705882352941\n",
      "Median of the sequence: 46\n",
      "Standard Deviation of the sequence: 18.80140013559691\n"
     ]
    }
   ],
   "source": [
    "print(f\"Count of unique randoms: {len(randoms_map.keys())}\")\n",
    "sorted_randoms = sorted(randoms_map.keys())\n",
    "print(f\"Min random: {sorted_randoms[0]}; Max random: {sorted_randoms[-1]}\")\n",
    "print(f\"Mean of the sequence: {statistics.mean(randoms_map.keys())}\")\n",
    "print(f\"Median of the sequence: {statistics.median(randoms_map.keys())}\")\n",
    "print(f\"Standard Deviation of the sequence: {statistics.stdev(sorted_randoms)}\")"
   ]
  },
  {
   "cell_type": "markdown",
   "id": "39ce53eb",
   "metadata": {},
   "source": [
    "Read from the input the desired topN count of most frequent randoms that should be printed.\n",
    "Then, store in an array all the randoms along with their individual count. Each entry in the array is an object with two fields:\n",
    "- _value_: the random value\n",
    "- _count_: the value's frequency or count of occurrences in the sequence. \n",
    "In the end the array is sorted in the descending order of each object's _count_ value and the first topN are printed out."
   ]
  },
  {
   "cell_type": "code",
   "execution_count": 6,
   "id": "7aeb2cbc",
   "metadata": {},
   "outputs": [],
   "source": [
    "topN = 10 # int(input(\"Count of most frequent numbers?> \"))\n",
    "randoms_array = []\n",
    "for random_value in randoms_map.keys():\n",
    "    randoms_array.append({\"value\" : random_value, \"count\" : len(randoms_map[random_value])}) \n",
    "randoms_array.sort(key=lambda x: x[\"count\"], reverse=True)"
   ]
  },
  {
   "cell_type": "markdown",
   "id": "cfe877da",
   "metadata": {},
   "source": [
    "Use a lambda expresion to map the first _topN_ objects from the sorted array to a string showing a random value and the count of its occurrences in the sequence. \n",
    "Join these strings together, each a new line, then print the resulting text."
   ]
  },
  {
   "cell_type": "code",
   "execution_count": 7,
   "id": "c4aceec9",
   "metadata": {},
   "outputs": [
    {
     "name": "stdout",
     "output_type": "stream",
     "text": [
      "random 75 occurred 2 times\n",
      "random 59 occurred 2 times\n",
      "random 40 occurred 2 times\n",
      "random 16 occurred 1 times\n",
      "random 48 occurred 1 times\n",
      "random 35 occurred 1 times\n",
      "random 52 occurred 1 times\n",
      "random 36 occurred 1 times\n",
      "random 20 occurred 1 times\n",
      "random 53 occurred 1 times\n"
     ]
    }
   ],
   "source": [
    "lines = map(\n",
    "    lambda r: f'random {r[\"value\"]} occurred {r[\"count\"]} times',\n",
    "    randoms_array[:topN]\n",
    ")\n",
    "print(\"\\n\".join(lines))"
   ]
  }
 ],
 "metadata": {
  "kernelspec": {
   "display_name": "Python 3",
   "language": "python",
   "name": "python3"
  },
  "language_info": {
   "codemirror_mode": {
    "name": "ipython",
    "version": 3
   },
   "file_extension": ".py",
   "mimetype": "text/x-python",
   "name": "python",
   "nbconvert_exporter": "python",
   "pygments_lexer": "ipython3",
   "version": "3.10.3"
  }
 },
 "nbformat": 4,
 "nbformat_minor": 5
}
