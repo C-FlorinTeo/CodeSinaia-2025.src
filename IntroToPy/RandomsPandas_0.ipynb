{
 "cells": [
  {
   "cell_type": "code",
   "execution_count": 1,
   "id": "9dedf772",
   "metadata": {},
   "outputs": [],
   "source": [
    "import pandas\n",
    "from RandomsGen_1 import generate_data_set, save_data_set\n",
    "from RandomsDataSet_0 import load_data_set"
   ]
  },
  {
   "cell_type": "markdown",
   "id": "61074aea",
   "metadata": {},
   "source": [
    "Generate, and serialize new set of 200 random numbers, in the range 1, 300, inclusive"
   ]
  },
  {
   "cell_type": "code",
   "execution_count": 2,
   "id": "27e2380b",
   "metadata": {},
   "outputs": [],
   "source": [
    "raw_data = generate_data_set(200, 1, 300)\n",
    "save_data_set(raw_data, \"dataset2.txt\")"
   ]
  },
  {
   "cell_type": "markdown",
   "id": "126a0bb2",
   "metadata": {},
   "source": [
    "Load the raw random numbers into a dataset and create a pandas data frame from it"
   ]
  },
  {
   "cell_type": "code",
   "execution_count": 3,
   "id": "ddd9f7b1",
   "metadata": {},
   "outputs": [],
   "source": [
    "data_set = list(load_data_set(\"dataset2.txt\").values())\n",
    "df = pandas.DataFrame({\n",
    "    \"value\": [obj.get_value() for obj in data_set],\n",
    "    \"count\": [obj.get_count() for obj in data_set],\n",
    "    \"instance\" : data_set\n",
    "})"
   ]
  },
  {
   "cell_type": "markdown",
   "id": "7b3bb4c0",
   "metadata": {},
   "source": [
    "Basic pandas operation: determine which random has the maximum number of occurrences\n",
    "and the indexes where the largest random number was generated."
   ]
  },
  {
   "cell_type": "code",
   "execution_count": 4,
   "id": "79f3e9e5",
   "metadata": {},
   "outputs": [
    {
     "name": "stdout",
     "output_type": "stream",
     "text": [
      "most frequent random: 116 occurred 3 times, at indexes [1, 93, 183]...\n",
      "largest random 300 generated at indices: [62]...\n"
     ]
    }
   ],
   "source": [
    "maxCountRow = df.loc[df[\"count\"].idxmax()]\n",
    "print(f'most frequent random: {maxCountRow[\"value\"]} occurred {maxCountRow[\"count\"]} times, at indexes {maxCountRow[\"instance\"].get_indexes()[:5]}...')\n",
    "maxValueRow = df.loc[df[\"value\"].idxmax()]\n",
    "print(f'largest random {maxValueRow[\"value\"]} generated at indices: {maxValueRow[\"instance\"].get_indexes()[:5]}...')\n"
   ]
  },
  {
   "cell_type": "markdown",
   "id": "5d1de162",
   "metadata": {},
   "source": [
    "Create another small data frame associating the names \"unique\" and \"double\" to the values 1 and 2.\n",
    "Then join this data frame with the data frame contiaing the randoms such that randoms with one\n",
    "occurrence are labeled with \"unique\", and the ones with two occurrences are labeled with \"double\". \n",
    "The other randoms are left un-labeled.\n",
    "Then filter and display the randoms with only \"unique\" and \"double\" name."
   ]
  },
  {
   "cell_type": "code",
   "execution_count": 5,
   "id": "ebeadad7",
   "metadata": {},
   "outputs": [
    {
     "name": "stdout",
     "output_type": "stream",
     "text": [
      "     value  count                          instance    name\n",
      "0       20      1          20 : 1 occurrences @ [0]  unique\n",
      "1       27      1          27 : 1 occurrences @ [3]  unique\n",
      "2      149      1         149 : 1 occurrences @ [4]  unique\n",
      "3      240      1         240 : 1 occurrences @ [5]  unique\n",
      "4      109      1         109 : 1 occurrences @ [6]  unique\n",
      "..     ...    ...                               ...     ...\n",
      "128    283      2  283 : 2 occurrences @ [133, 188]  double\n",
      "129    218      2  218 : 2 occurrences @ [156, 176]  double\n",
      "130    189      2  189 : 2 occurrences @ [160, 192]  double\n",
      "131     78      2   78 : 2 occurrences @ [166, 175]  double\n",
      "132    205      2  205 : 2 occurrences @ [173, 181]  double\n",
      "\n",
      "[133 rows x 4 columns]\n"
     ]
    }
   ],
   "source": [
    "nf = pandas.DataFrame({\n",
    "    \"count\" : [1, 2],\n",
    "    \"name\": [\"unique\", \"double\"]})\n",
    "\n",
    "jf = pandas.merge(df, nf, on = \"count\", how = \"outer\")\n",
    "fjf = jf[jf[\"name\"].notna()]\n",
    "print(fjf)\n"
   ]
  },
  {
   "cell_type": "markdown",
   "id": "a01bca81",
   "metadata": {},
   "source": [
    "Group the rows in the dataframe by their name, and count the rows in each group"
   ]
  },
  {
   "cell_type": "code",
   "execution_count": 6,
   "id": "3f6f41ec",
   "metadata": {},
   "outputs": [
    {
     "name": "stdout",
     "output_type": "stream",
     "text": [
      "name\n",
      "double    43\n",
      "unique    90\n",
      "NaN        8\n",
      "dtype: int64\n"
     ]
    }
   ],
   "source": [
    "gjf = jf.groupby(\"name\", dropna=False).size()\n",
    "print(gjf)"
   ]
  }
 ],
 "metadata": {
  "kernelspec": {
   "display_name": "Python 3",
   "language": "python",
   "name": "python3"
  },
  "language_info": {
   "codemirror_mode": {
    "name": "ipython",
    "version": 3
   },
   "file_extension": ".py",
   "mimetype": "text/x-python",
   "name": "python",
   "nbconvert_exporter": "python",
   "pygments_lexer": "ipython3",
   "version": "3.11.9"
  }
 },
 "nbformat": 4,
 "nbformat_minor": 5
}
