{
 "cells": [
  {
   "cell_type": "code",
   "execution_count": 4,
   "id": "9dedf772",
   "metadata": {},
   "outputs": [],
   "source": [
    "import pandas\n",
    "from RandomsGen_1 import generate_data_set, save_data_set\n",
    "from RandomsDataSet_0 import load_data_set"
   ]
  },
  {
   "cell_type": "markdown",
   "id": "61074aea",
   "metadata": {},
   "source": [
    "Generate, and serialize new set of 200 random numbers, in the range 1, 300, inclusive"
   ]
  },
  {
   "cell_type": "code",
   "execution_count": 5,
   "id": "27e2380b",
   "metadata": {},
   "outputs": [],
   "source": [
    "raw_data = generate_data_set(200, 1, 300)\n",
    "save_data_set(raw_data, \"dataset2.txt\")"
   ]
  },
  {
   "cell_type": "markdown",
   "id": "126a0bb2",
   "metadata": {},
   "source": [
    "Load the raw random numbers into a dataset and create a pandas data frame from it"
   ]
  },
  {
   "cell_type": "code",
   "execution_count": 155,
   "id": "ddd9f7b1",
   "metadata": {},
   "outputs": [],
   "source": [
    "data_set = list(load_data_set(\"dataset2.txt\").values())\n",
    "df = pandas.DataFrame({\n",
    "    \"value\": [obj.get_value() for obj in data_set],\n",
    "    \"count\": [obj.get_count() for obj in data_set],\n",
    "    \"instance\" : data_set\n",
    "})"
   ]
  },
  {
   "cell_type": "markdown",
   "id": "7b3bb4c0",
   "metadata": {},
   "source": [
    "Basic pandas operation: determine which random has the maximum number of occurrences\n",
    "and the indexes where the largest random number was generated."
   ]
  },
  {
   "cell_type": "code",
   "execution_count": 156,
   "id": "79f3e9e5",
   "metadata": {},
   "outputs": [
    {
     "name": "stdout",
     "output_type": "stream",
     "text": [
      "most frequent random: 4 occurred 4 times, at indexes [2, 111, 128, 163]...\n",
      "largest random 298 generated at indices: [88]...\n"
     ]
    }
   ],
   "source": [
    "maxCountRow = df.loc[df[\"count\"].idxmax()]\n",
    "print(f'most frequent random: {maxCountRow[\"value\"]} occurred {maxCountRow[\"count\"]} times, at indexes {maxCountRow[\"instance\"].get_indexes()[:5]}...')\n",
    "maxValueRow = df.loc[df[\"value\"].idxmax()]\n",
    "print(f'largest random {maxValueRow[\"value\"]} generated at indices: {maxValueRow[\"instance\"].get_indexes()[:5]}...')\n"
   ]
  },
  {
   "cell_type": "markdown",
   "id": "5d1de162",
   "metadata": {},
   "source": [
    "Create another small data frame associating the names \"unique\" and \"double\" to the values 1 and 2.\n",
    "Then join this data frame with the data frame contiaing the randoms such that randoms with one\n",
    "occurrence are labeled with \"unique\", and the ones with two occurrences are labeled with \"double\". \n",
    "The other randoms are left un-labeled.\n",
    "Then filter and display the randoms with only \"unique\" and \"double\" name."
   ]
  },
  {
   "cell_type": "code",
   "execution_count": 157,
   "id": "ebeadad7",
   "metadata": {},
   "outputs": [
    {
     "name": "stdout",
     "output_type": "stream",
     "text": [
      "     value  count                                 instance    name\n",
      "0      179      1                179 : 1 occurrences @ [4]  unique\n",
      "1       21      1                 21 : 1 occurrences @ [5]  unique\n",
      "2       60      1                 60 : 1 occurrences @ [6]  unique\n",
      "3      229      1                229 : 1 occurrences @ [8]  unique\n",
      "4      277      1                277 : 1 occurrences @ [9]  unique\n",
      "..     ...    ...                                      ...     ...\n",
      "139    164      3     164 : 3 occurrences @ [58, 130, 147]     NaN\n",
      "140     45      3      45 : 3 occurrences @ [76, 102, 133]     NaN\n",
      "141      4      4   4 : 4 occurrences @ [2, 111, 128, 163]     NaN\n",
      "142     70      4    70 : 4 occurrences @ [7, 11, 33, 193]     NaN\n",
      "143    116      4  116 : 4 occurrences @ [13, 84, 92, 123]     NaN\n",
      "\n",
      "[144 rows x 4 columns]\n"
     ]
    }
   ],
   "source": [
    "nf = pandas.DataFrame({\n",
    "    \"count\" : [1, 2],\n",
    "    \"name\": [\"unique\", \"double\"]})\n",
    "\n",
    "jf = pandas.merge(df, nf, on = \"count\", how = \"outer\")\n",
    "fjf = jf[jf[\"name\"].notna()]\n",
    "print(jf)\n"
   ]
  },
  {
   "cell_type": "markdown",
   "id": "a01bca81",
   "metadata": {},
   "source": [
    "Group the rows in the dataframe by their name, and count the rows in each group"
   ]
  },
  {
   "cell_type": "code",
   "execution_count": 152,
   "id": "3f6f41ec",
   "metadata": {},
   "outputs": [
    {
     "name": "stdout",
     "output_type": "stream",
     "text": [
      "name\n",
      "double     38\n",
      "unique    102\n",
      "NaN         7\n",
      "dtype: int64\n"
     ]
    }
   ],
   "source": [
    "gjf = jf.groupby(\"name\", dropna=False).size()\n",
    "print(gjf)"
   ]
  }
 ],
 "metadata": {
  "kernelspec": {
   "display_name": "Python 3",
   "language": "python",
   "name": "python3"
  },
  "language_info": {
   "codemirror_mode": {
    "name": "ipython",
    "version": 3
   },
   "file_extension": ".py",
   "mimetype": "text/x-python",
   "name": "python",
   "nbconvert_exporter": "python",
   "pygments_lexer": "ipython3",
   "version": "3.11.9"
  }
 },
 "nbformat": 4,
 "nbformat_minor": 5
}
