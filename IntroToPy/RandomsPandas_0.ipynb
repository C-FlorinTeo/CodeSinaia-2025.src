{
 "cells": [
  {
   "cell_type": "code",
   "execution_count": null,
   "id": "9dedf772",
   "metadata": {},
   "outputs": [],
   "source": [
    "import pandas\n",
    "from RandomsGen_1 import generate_data_set, save_data_set\n",
    "from RandomsDataSet_0 import load_data_set"
   ]
  },
  {
   "cell_type": "markdown",
   "id": "61074aea",
   "metadata": {},
   "source": [
    "Generate, and serialize new set of 200 random numbers, in the range 1, 300, inclusive"
   ]
  },
  {
   "cell_type": "code",
   "execution_count": null,
   "id": "27e2380b",
   "metadata": {},
   "outputs": [],
   "source": [
    "raw_data = generate_data_set(200, 1, 300)\n",
    "save_data_set(raw_data, \"dataset2.txt\")"
   ]
  },
  {
   "cell_type": "markdown",
   "id": "126a0bb2",
   "metadata": {},
   "source": [
    "Load the raw random numbers into a dataset and create a pandas data frame from it"
   ]
  },
  {
   "cell_type": "code",
   "execution_count": null,
   "id": "ddd9f7b1",
   "metadata": {},
   "outputs": [],
   "source": [
    "data_set = list(load_data_set(\"dataset2.txt\").values())\n",
    "df = pandas.DataFrame({\n",
    "    \"value\": [obj.get_value() for obj in data_set],\n",
    "    \"count\": [obj.get_count() for obj in data_set],\n",
    "    \"instance\" : data_set\n",
    "})"
   ]
  },
  {
   "cell_type": "markdown",
   "id": "7b3bb4c0",
   "metadata": {},
   "source": [
    "Basic pandas operation: determine which random has the maximum number of occurrences\n",
    "and the indexes where the largest random number was generated."
   ]
  },
  {
   "cell_type": "code",
   "execution_count": null,
   "id": "79f3e9e5",
   "metadata": {},
   "outputs": [],
   "source": [
    "maxCountRow = df.loc[df[\"count\"].idxmax()]\n",
    "print(f'most frequent random: {maxCountRow[\"value\"]} occurred {maxCountRow[\"count\"]} times, at indexes {maxCountRow[\"instance\"].get_indexes()[:5]}...')\n",
    "maxValueRow = df.loc[df[\"value\"].idxmax()]\n",
    "print(f'largest random {maxValueRow[\"value\"]} generated at indices: {maxValueRow[\"instance\"].get_indexes()[:5]}...')\n"
   ]
  },
  {
   "cell_type": "markdown",
   "id": "5d1de162",
   "metadata": {},
   "source": [
    "Create another small data frame associating the names \"unique\" and \"double\" to the values 1 and 2.\n",
    "Then join this data frame with the data frame contiaing the randoms such that randoms with one\n",
    "occurrence are labeled with \"unique\", and the ones with two occurrences are labeled with \"double\". \n",
    "The other randoms are left un-labeled.\n",
    "Then filter and display the randoms with only \"unique\" and \"double\" name."
   ]
  },
  {
   "cell_type": "code",
   "execution_count": null,
   "id": "ebeadad7",
   "metadata": {},
   "outputs": [],
   "source": [
    "nf = pandas.DataFrame({\n",
    "    \"count\" : [1, 2],\n",
    "    \"name\": [\"unique\", \"double\"]})\n",
    "\n",
    "jf = pandas.merge(df, nf, on = \"count\", how = \"outer\")\n",
    "fjf = jf[jf[\"name\"].notna()]\n",
    "print(fjf)\n"
   ]
  },
  {
   "cell_type": "markdown",
   "id": "a01bca81",
   "metadata": {},
   "source": [
    "Group the rows in the dataframe by their name, and count the rows in each group"
   ]
  },
  {
   "cell_type": "code",
   "execution_count": null,
   "id": "3f6f41ec",
   "metadata": {},
   "outputs": [],
   "source": [
    "gjf = jf.groupby(\"name\", dropna=False).size()\n",
    "print(gjf)"
   ]
  }
 ],
 "metadata": {
  "kernelspec": {
   "display_name": "Python 3",
   "language": "python",
   "name": "python3"
  },
  "language_info": {
   "codemirror_mode": {
    "name": "ipython",
    "version": 3
   },
   "file_extension": ".py",
   "mimetype": "text/x-python",
   "name": "python",
   "nbconvert_exporter": "python",
   "pygments_lexer": "ipython3",
   "version": "3.10.3"
  }
 },
 "nbformat": 4,
 "nbformat_minor": 5
}
