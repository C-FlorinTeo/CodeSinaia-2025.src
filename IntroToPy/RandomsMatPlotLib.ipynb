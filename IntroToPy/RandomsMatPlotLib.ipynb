{
 "cells": [
  {
   "cell_type": "markdown",
   "id": "854a0014",
   "metadata": {},
   "source": [
    "Generate a set of randoms and load the in a pandas data frame"
   ]
  },
  {
   "cell_type": "code",
   "execution_count": null,
   "id": "99719fd8",
   "metadata": {},
   "outputs": [],
   "source": [
    "from RandomsGen_1 import generate_data_set, save_data_set\n",
    "\n",
    "raw_data = generate_data_set(200, 1, 300)\n",
    "save_data_set(raw_data, \"dataset3.txt\")"
   ]
  },
  {
   "cell_type": "markdown",
   "id": "b22ec3f9",
   "metadata": {},
   "source": [
    "Use matplotlib to generate a chart with the x axes showing the iteration of the generator and on the y axes the value that was generated at that iteration."
   ]
  },
  {
   "cell_type": "code",
   "execution_count": null,
   "id": "22aafef9",
   "metadata": {},
   "outputs": [],
   "source": [
    "import matplotlib.pyplot as plt\n",
    "\n",
    "plt.figure(figsize=(10, 4))\n",
    "plt.plot(range(len(raw_data)), raw_data)\n",
    "plt.xlabel(\"Index\")\n",
    "plt.ylabel(\"Value\")\n",
    "plt.title(\"Line chart of raw_data\")\n",
    "plt.show()\n"
   ]
  },
  {
   "cell_type": "markdown",
   "id": "8ad30be9",
   "metadata": {},
   "source": [
    "Load the raw data in a data frame"
   ]
  },
  {
   "cell_type": "code",
   "execution_count": null,
   "id": "d60c805e",
   "metadata": {},
   "outputs": [],
   "source": [
    "import pandas\n",
    "from RandomsDataSet_0 import load_data_set\n",
    "\n",
    "data_set = list(load_data_set(\"dataset3.txt\").values())\n",
    "df = pandas.DataFrame({\n",
    "    \"value\": [obj.get_value() for obj in data_set],\n",
    "    \"count\": [obj.get_count() for obj in data_set],\n",
    "    \"instance\" : data_set\n",
    "})"
   ]
  },
  {
   "cell_type": "markdown",
   "id": "0bbabb64",
   "metadata": {},
   "source": [
    "Create a bar chart with each value on the x axis and a bar extending on the y axis for each balue, showing the number of occurrences of that value in the generated set."
   ]
  },
  {
   "cell_type": "code",
   "execution_count": null,
   "id": "262cdfa2",
   "metadata": {},
   "outputs": [],
   "source": [
    "plt.figure(figsize=(12, 6))\n",
    "plt.bar(df[\"value\"], df[\"count\"])\n",
    "plt.xlabel(\"Value\")\n",
    "plt.ylabel(\"Count\")\n",
    "plt.title(\"Bar Chart of Value vs. Count\")\n",
    "plt.show()"
   ]
  },
  {
   "cell_type": "markdown",
   "id": "67fef8ed",
   "metadata": {},
   "source": [
    "Generate a box plot (or whisker plot) for all values in the data frame"
   ]
  },
  {
   "cell_type": "code",
   "execution_count": null,
   "id": "440c145c",
   "metadata": {},
   "outputs": [],
   "source": [
    "plt.boxplot(df[\"value\"])\n",
    "plt.ylabel(\"Value\")\n",
    "plt.title(\"Box (Whisker) Plot of Value\")\n",
    "plt.show()"
   ]
  },
  {
   "cell_type": "markdown",
   "id": "a959fbf4",
   "metadata": {},
   "source": [
    "Print the four values depicted in this box plot: The minimum (quantile(0)), the first quantile (the largest value of the smallest 25% of all values), the median (average), the third quantile (the largest value of the smallest 75% of all values) and the maximum (quantile(1)) value."
   ]
  },
  {
   "cell_type": "code",
   "execution_count": null,
   "id": "c2495ebf",
   "metadata": {},
   "outputs": [],
   "source": [
    "print(f'min = {df[\"value\"].quantile(0)}')\n",
    "print(f'Q1 = {df[\"value\"].quantile(.25)}')\n",
    "print(f'median = {df[\"value\"].quantile(.5)}')\n",
    "print(f'Q3 = {df[\"value\"].quantile(.75)}')\n",
    "print(f'max = {df[\"value\"].quantile(1)}')\n"
   ]
  },
  {
   "cell_type": "markdown",
   "id": "54251c46",
   "metadata": {},
   "source": [
    "plotting a custom whisker plot for the 10 and 90 percentiles rather than 25 and 75."
   ]
  },
  {
   "cell_type": "code",
   "execution_count": null,
   "id": "ebda7d15",
   "metadata": {},
   "outputs": [],
   "source": [
    "q0 = df[\"value\"].quantile(0)        # min\n",
    "q10 = df[\"value\"].quantile(0.1)     # 10%\n",
    "q50 = df[\"value\"].quantile(0.5)     # 50%\n",
    "q90 = df[\"value\"].quantile(0.9)     # 90%\n",
    "q1 = df[\"value\"].quantile(1)        # max\n",
    "\n",
    "plt.figure(figsize=(6, 2))\n",
    "plt.vlines(1, q0, q1, color='gray', linewidth=2)  # whiskers\n",
    "plt.vlines(1, q10, q90, color='blue', linewidth=8)          # custom \"box\"\n",
    "plt.plot(1, q50, 'ro')                                   # median as a red dot\n",
    "\n",
    "plt.xticks([])\n",
    "plt.ylabel(\"Value\")\n",
    "plt.title(\"Custom Quantile Box Plot (10th to 90th percentile)\")\n",
    "plt.show()\n"
   ]
  }
 ],
 "metadata": {
  "kernelspec": {
   "display_name": "Python 3",
   "language": "python",
   "name": "python3"
  },
  "language_info": {
   "codemirror_mode": {
    "name": "ipython",
    "version": 3
   },
   "file_extension": ".py",
   "mimetype": "text/x-python",
   "name": "python",
   "nbconvert_exporter": "python",
   "pygments_lexer": "ipython3",
   "version": "3.10.3"
  }
 },
 "nbformat": 4,
 "nbformat_minor": 5
}
