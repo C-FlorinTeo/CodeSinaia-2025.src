{
 "cells": [
  {
   "cell_type": "markdown",
   "id": "f937cd60",
   "metadata": {},
   "source": [
    "This notebook loads the Randoms database, analizes it using pandas and produces various charts using matplotlib."
   ]
  },
  {
   "cell_type": "code",
   "execution_count": 2,
   "id": "6c1aef92",
   "metadata": {},
   "outputs": [],
   "source": [
    "from Randoms_2 import load_randoms\n",
    "import pandas"
   ]
  },
  {
   "cell_type": "markdown",
   "id": "39ed1c18",
   "metadata": {},
   "source": [
    "Load database in _randoms_map_, which is associating each random value (key) with the list of indexes (value) where it was generated."
   ]
  },
  {
   "cell_type": "code",
   "execution_count": 3,
   "id": "11318d06",
   "metadata": {},
   "outputs": [
    {
     "name": "stdout",
     "output_type": "stream",
     "text": [
      "Loaded 74 unique random generated in a sequence of 1000 iterations\n"
     ]
    }
   ],
   "source": [
    "randoms_map, count = load_randoms(\"randoms_db.txt\")\n",
    "print(f\"Loaded {len(randoms_map.keys())} unique random generated in a sequence of {count} iterations\")"
   ]
  },
  {
   "cell_type": "markdown",
   "id": "01906abe",
   "metadata": {},
   "source": [
    "Create a Pandas data frame with two series of numbers. The random _value_ itself, and the _count_ of times it was generated in the sequence."
   ]
  },
  {
   "cell_type": "code",
   "execution_count": 4,
   "id": "e76947d5",
   "metadata": {},
   "outputs": [],
   "source": [
    "randoms_dataFrame = pandas.DataFrame({\n",
    "    \"value\": [randoms_map.keys()],\n",
    "    \"count\": [len(randoms_map.values())]\n",
    "})\n"
   ]
  }
 ],
 "metadata": {
  "kernelspec": {
   "display_name": "Python 3",
   "language": "python",
   "name": "python3"
  },
  "language_info": {
   "codemirror_mode": {
    "name": "ipython",
    "version": 3
   },
   "file_extension": ".py",
   "mimetype": "text/x-python",
   "name": "python",
   "nbconvert_exporter": "python",
   "pygments_lexer": "ipython3",
   "version": "3.11.9"
  }
 },
 "nbformat": 4,
 "nbformat_minor": 5
}
